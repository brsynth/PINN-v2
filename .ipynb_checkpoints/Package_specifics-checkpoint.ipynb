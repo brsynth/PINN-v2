{
 "cells": [
  {
   "cell_type": "markdown",
   "id": "dd536864",
   "metadata": {},
   "source": [
    "Specifications for packages : \n",
    "<ul>\n",
    "<li> pytorch : 2.6.0\n",
    "<li> optuna : 4.3.0\n",
    "<li> numpy : 2.0.2\n",
    "<li> tqdm : 4.67.1\n",
    "<li> scipy : 1.15.3\n",
    "<li> pandas : 2.2.2\n",
    "<li> matplotlib : 3.10.0\n",
    "<li> jax : 0.5.2\n",
    "</ul>"
   ]
  }
 ],
 "metadata": {
  "kernelspec": {
   "display_name": "Python 3 (ipykernel)",
   "language": "python",
   "name": "python3"
  },
  "language_info": {
   "codemirror_mode": {
    "name": "ipython",
    "version": 3
   },
   "file_extension": ".py",
   "mimetype": "text/x-python",
   "name": "python",
   "nbconvert_exporter": "python",
   "pygments_lexer": "ipython3",
   "version": "3.10.14"
  }
 },
 "nbformat": 4,
 "nbformat_minor": 5
}

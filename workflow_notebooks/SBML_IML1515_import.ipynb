{
 "cells": [
  {
   "cell_type": "markdown",
   "id": "2ff08e70",
   "metadata": {},
   "source": [
    "# SBML import and dictionary specifications"
   ]
  },
  {
   "cell_type": "code",
   "execution_count": 2,
   "id": "65e7a2dc",
   "metadata": {
    "scrolled": true
   },
   "outputs": [
    {
     "ename": "ModuleNotFoundError",
     "evalue": "No module named 'libsbml'",
     "output_type": "error",
     "traceback": [
      "\u001b[0;31m---------------------------------------------------------------------------\u001b[0m",
      "\u001b[0;31mModuleNotFoundError\u001b[0m                       Traceback (most recent call last)",
      "Cell \u001b[0;32mIn[2], line 2\u001b[0m\n\u001b[1;32m      1\u001b[0m \u001b[38;5;66;03m#Imports\u001b[39;00m\n\u001b[0;32m----> 2\u001b[0m \u001b[38;5;28;01mfrom\u001b[39;00m \u001b[38;5;21;01mode_dict\u001b[39;00m\u001b[38;5;21;01m.\u001b[39;00m\u001b[38;5;21;01mSBML_handling\u001b[39;00m \u001b[38;5;28;01mimport\u001b[39;00m SBML_ode_solving\n\u001b[1;32m      3\u001b[0m \u001b[38;5;28;01mfrom\u001b[39;00m \u001b[38;5;21;01mode_dict\u001b[39;00m\u001b[38;5;21;01m.\u001b[39;00m\u001b[38;5;21;01mdict_build\u001b[39;00m \u001b[38;5;28;01mimport\u001b[39;00m ode_parameters, build_residual_dict, build_lambda_dict\n",
      "File \u001b[0;32m~/Desktop/ENS_M1/Stage/Workflow_github/ode_dict/SBML_handling.py:10\u001b[0m\n\u001b[1;32m      3\u001b[0m \u001b[38;5;124;03m\"\"\"\u001b[39;00m\n\u001b[1;32m      4\u001b[0m \u001b[38;5;124;03mCreated on Fri Jun 13 11:51:51 2025\u001b[39;00m\n\u001b[1;32m      5\u001b[0m \n\u001b[1;32m      6\u001b[0m \u001b[38;5;124;03m@author: lucie-garance\u001b[39;00m\n\u001b[1;32m      7\u001b[0m \u001b[38;5;124;03m\"\"\"\u001b[39;00m\n\u001b[1;32m      9\u001b[0m \u001b[38;5;66;03m#Imports\u001b[39;00m\n\u001b[0;32m---> 10\u001b[0m \u001b[38;5;28;01mimport\u001b[39;00m \u001b[38;5;21;01mlibsbml\u001b[39;00m\n\u001b[1;32m     11\u001b[0m \u001b[38;5;28;01mimport\u001b[39;00m \u001b[38;5;21;01mnumpy\u001b[39;00m \u001b[38;5;28;01mas\u001b[39;00m \u001b[38;5;21;01mnp\u001b[39;00m\n\u001b[1;32m     12\u001b[0m \u001b[38;5;28;01mimport\u001b[39;00m \u001b[38;5;21;01mcobra\u001b[39;00m\n",
      "\u001b[0;31mModuleNotFoundError\u001b[0m: No module named 'libsbml'"
     ]
    }
   ],
   "source": [
    "#Imports\n",
    "from ode_dict.SBML_handling import SBML_ode_solving\n",
    "from ode_dict.dict_build import ode_parameters, build_residual_dict, build_lambda_dict"
   ]
  },
  {
   "cell_type": "markdown",
   "id": "69ee9be8",
   "metadata": {},
   "source": [
    "## Importation of the SBML model"
   ]
  },
  {
   "cell_type": "code",
   "execution_count": null,
   "id": "b852ca48",
   "metadata": {},
   "outputs": [],
   "source": [
    "#Obtaining the sbml model in the correct format and the ODE system associated\n",
    "model, ode_system = SBML_ode_solving(\n",
    "                        sbml_file=\"iML1515_duplicated-2.xml\",  #The sbml file to read\n",
    "                        asso_csv=\"iML1515.csv\",                #Associated csv for cobra solving\n",
    "                        curation=True,                         #Curation of the associated csv based on medium data\n",
    "                        cur_params=\"Growth_curves_copie.csv\",  #Medium data for curation of the associated csv\n",
    "                        reduce=True,                           #Should the sbml model be reduced \n",
    "                        red_params=None,                       #Reduction parameters (if some equations have to be kept independantly of fluxes e.g.)\n",
    "                        verbose=True)                          #Prints information during manipulation"
   ]
  },
  {
   "cell_type": "markdown",
   "id": "0460b6c9",
   "metadata": {},
   "source": [
    "## Creating the dictionaries to run the PINN model"
   ]
  },
  {
   "cell_type": "code",
   "execution_count": null,
   "id": "68b1838d",
   "metadata": {},
   "outputs": [],
   "source": [
    "#Creating the dictionaries\n",
    "\n",
    "##Parameters dictionary\n",
    "ode_parameter_ranges_dict,variable_standard_deviations_dict  = ode_parameters(model, ode_system, verbose=True)\n",
    "\n",
    "##ODE dictionary\n",
    "residual_dict=build_residual_dict(model, ode_system)\n",
    "\n",
    "##Basis for integration/ode solving\n",
    "ode_dict=build_lambda_dict(ode_system)"
   ]
  }
 ],
 "metadata": {
  "kernelspec": {
   "display_name": "Python 3 (ipykernel)",
   "language": "python",
   "name": "python3"
  },
  "language_info": {
   "codemirror_mode": {
    "name": "ipython",
    "version": 3
   },
   "file_extension": ".py",
   "mimetype": "text/x-python",
   "name": "python",
   "nbconvert_exporter": "python",
   "pygments_lexer": "ipython3",
   "version": "3.10.14"
  }
 },
 "nbformat": 4,
 "nbformat_minor": 5
}

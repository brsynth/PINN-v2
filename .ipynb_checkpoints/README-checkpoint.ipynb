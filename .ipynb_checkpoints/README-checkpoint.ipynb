{
 "cells": [
  {
   "cell_type": "markdown",
   "id": "f740aba0",
   "metadata": {},
   "source": [
    "# Physics-Informed Neural Networks for Data-Driven Modeling of Metabolic Dynamics\n",
    "<hr>\n",
    "Mathematical modelling is a powerful tool for quantitatively describing metabolic networks and predicting their behavior under varying environmental conditions—a critical aspect of metabolic engineering. You will find here developed a hybrid model based on the Physics-Informed Neural Network (PINN) framework, which integrates neural networks with ordinary differential equations to incorporate biological constraints into machine learning.\n",
    "\n",
    "The model draws on methodologies proposed by Raissi et al. (2018) and is inspired by recent applications by Yazdani et al. (2020). It is based on the previous implementation by the Dre. Giralt found <a href=\"https://github.com/brsynth/PINN/blob/main\" target=\"_blank\"> here</a>. The model was trained on experimental data from P. Millard’s study of acetate overflow in Escherichia coli. Despite being provided with time-series data for only three metabolites, the model successfully reconstructed the temporal dynamics of the entire system, producing trends consistent with those of the original parametric model. However, kinetic parameter estimation remains a challenge, highlighting a key direction for future improvement.\n",
    "\n",
    "This work contributes to the growing field of hybrid modelling by exploring the potential of PINNs to capture complex metabolic dynamics. The next phase of the project will involve applying the model to more comprehensive datasets within a whole-cell modelling framework for E. coli. Ultimately, the goal is to evaluate the capacity of such approaches to support data-driven, mechanistically informed predictions in systems biology.\n",
    "\n",
    "# Getting started\n",
    "<hr>\n",
    "\n",
    "<ul>\n",
    "<li> <b>Clone the git</b> (<a href\"https://docs.github.com/en/repositories/creating-and-managing-repositories/cloning-a-repository\" target=\"blank\"> how to clone a git repository </a>)</li>\n",
    "<li> Install a distribution of <b> conda </b> if not already installed </li>\n",
    "<li> Import the modules specified in the \"Package_specifics.ipynb\" file\n",
    "</ul>\n",
    "\n",
    "# Structuration of the code\n",
    "<hr>\n",
    "The main class of this project is Pinn. To be trained, it requires an ODE system with unknown parameters, data supposed to follow differential equations, auxiliary data for 2 time points, a range for every unknown parameter and a list of true parameters to compute the score. \n",
    "\n",
    "<ul>\n",
    "<li> ODE models and parameters are to be specified with dictionaries. Examples can be found in the \"ode_dict\" folder. A generator is also available in this file, as well as imports from an SBML model. \n",
    "<li> All data used in the example notebooks are to be found in the \"data\" file.\n",
    "<li> The pinn codes and the tools associated to its class are stored in the \"lib\" folder. A notebook for the pinn version is also available\n",
    "<li> Performances of our model on P. Millard et al. datasets are presented in the \"Notebooks\" folder. The executables of these notebooks for a server run are to be found in the \"workflow_exec\" folder.\n",
    "<li> Complementary codes and notebooks can be found in \"Archive\" folder : in particular the run on new data from E. Coli with an IML1515 model, and the previous jinns versions of the model.\n",
    "<li> A hands-on is available as a notebook, as tutorial to use the code.\n",
    "</ul>"
   ]
  }
 ],
 "metadata": {
  "kernelspec": {
   "display_name": "Python 3 (ipykernel)",
   "language": "python",
   "name": "python3"
  },
  "language_info": {
   "codemirror_mode": {
    "name": "ipython",
    "version": 3
   },
   "file_extension": ".py",
   "mimetype": "text/x-python",
   "name": "python",
   "nbconvert_exporter": "python",
   "pygments_lexer": "ipython3",
   "version": "3.10.14"
  }
 },
 "nbformat": 4,
 "nbformat_minor": 5
}
